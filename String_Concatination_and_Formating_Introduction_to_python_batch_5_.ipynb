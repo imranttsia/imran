{
  "nbformat": 4,
  "nbformat_minor": 0,
  "metadata": {
    "colab": {
      "provenance": [],
      "authorship_tag": "ABX9TyOF6boLdbN+iyqvbTLa3Pis",
      "include_colab_link": true
    },
    "kernelspec": {
      "name": "python3",
      "display_name": "Python 3"
    },
    "language_info": {
      "name": "python"
    }
  },
  "cells": [
    {
      "cell_type": "markdown",
      "metadata": {
        "id": "view-in-github",
        "colab_type": "text"
      },
      "source": [
        "<a href=\"https://colab.research.google.com/github/imranttsia/imran/blob/master/String_Concatination_and_Formating_Introduction_to_python_batch_5_.ipynb\" target=\"_parent\"><img src=\"https://colab.research.google.com/assets/colab-badge.svg\" alt=\"Open In Colab\"/></a>"
      ]
    },
    {
      "cell_type": "markdown",
      "source": [
        "String Concatination and Formating - Assignment 1"
      ],
      "metadata": {
        "id": "-kT7B06kI2kb"
      }
    },
    {
      "cell_type": "code",
      "execution_count": 1,
      "metadata": {
        "colab": {
          "base_uri": "https://localhost:8080/",
          "height": 0
        },
        "id": "AhW4CFtd9Egq",
        "outputId": "dee731cd-6972-471e-d373-558c60808c43"
      },
      "outputs": [
        {
          "output_type": "stream",
          "name": "stdout",
          "text": [
            "My name is Syed Imran Ali, I am 35. I live in Pakistan\n"
          ]
        }
      ],
      "source": [
        "name = \"Syed Imran Ali\"\n",
        "age = 35\n",
        "country = \"Pakistan\"\n",
        "\n",
        "biodata = \"My name is \" + name + \", I am \" + str(age) + \". I live in \" + country\n",
        "\n",
        "print(biodata)"
      ]
    },
    {
      "cell_type": "markdown",
      "source": [
        "Assignment 2: String Formatting using `.format()`\n"
      ],
      "metadata": {
        "id": "IN-FGKL0I68V"
      }
    },
    {
      "cell_type": "code",
      "source": [
        "item = \"Book\"\n",
        "price = 750\n",
        "quantity = 8\n",
        "\n",
        "total_cost = price * quantity\n",
        "\n",
        "string = \"\"\" I bought {} {}'s at {} each for a total of ${}\"\"\".format(quantity,item,price,total_cost)\n",
        "\n",
        "print(total_cost)\n",
        "print(string)"
      ],
      "metadata": {
        "colab": {
          "base_uri": "https://localhost:8080/",
          "height": 0
        },
        "id": "cDAr5-xQI6Cy",
        "outputId": "09d33dbd-10c4-4d5a-ba22-823f48fe8870"
      },
      "execution_count": 2,
      "outputs": [
        {
          "output_type": "stream",
          "name": "stdout",
          "text": [
            "6000\n",
            " I bought 8 Book's at 750 each for a total of $6000\n"
          ]
        }
      ]
    },
    {
      "cell_type": "markdown",
      "source": [
        "Assignment 3: String Interpolation using `f''`\n"
      ],
      "metadata": {
        "id": "DXrFd-4UI7yf"
      }
    },
    {
      "cell_type": "code",
      "source": [
        "city = \"Karachi\"\n",
        "temperature = 29\n",
        "\n",
        "string = f\"\"\" The temperature in {city} is {temperature}'c' \"\"\"\n",
        "\n",
        "print(string)"
      ],
      "metadata": {
        "colab": {
          "base_uri": "https://localhost:8080/",
          "height": 0
        },
        "id": "JUvHszejI8P8",
        "outputId": "87945526-8235-43b6-9d36-16f90ca5b287"
      },
      "execution_count": 3,
      "outputs": [
        {
          "output_type": "stream",
          "name": "stdout",
          "text": [
            " The temperature in Karachi is 29'c' \n"
          ]
        }
      ]
    },
    {
      "cell_type": "markdown",
      "source": [
        "Assignment 4: String Formatting using `%()`\n"
      ],
      "metadata": {
        "id": "tj98WELZI8gY"
      }
    },
    {
      "cell_type": "code",
      "source": [
        "first_name = \"Syed Imran\"\n",
        "last_name = \"Ali\"\n",
        "birth_year = 1988\n",
        "current_year = 2023\n",
        "\n",
        "age = current_year - birth_year\n",
        "\n",
        "string = \"My name is %s %s. I am %d years old\" %(first_name,last_name,age)\n",
        "\n",
        "print(age)\n",
        "print(string)"
      ],
      "metadata": {
        "colab": {
          "base_uri": "https://localhost:8080/",
          "height": 0
        },
        "id": "j2Qc3I9DI8xj",
        "outputId": "df7b1bea-d90f-4bf5-9a67-6e601d88963e"
      },
      "execution_count": 4,
      "outputs": [
        {
          "output_type": "stream",
          "name": "stdout",
          "text": [
            "35\n",
            "My name is Syed Imran Ali. I am 35 years old\n"
          ]
        }
      ]
    },
    {
      "cell_type": "markdown",
      "source": [
        "Assignment 5: Combining Formatting Methods\n"
      ],
      "metadata": {
        "id": "WMr5Vo16I9Gc"
      }
    },
    {
      "cell_type": "code",
      "source": [
        "product_name = \"Air conditioner\"\n",
        "discount_percentage = 70\n",
        "orignal_price = 100000\n",
        "\n",
        "discounted_price = orignal_price*(1 - discount_percentage/100)\n",
        "\n",
        "string = f\"\"\" HOME APPLIANCE\n",
        "Product Name \\t = \\t{product_name}\n",
        "Discount Rate \\t = \\t{discount_percentage}\n",
        "Orignal Price \\t = \\t{orignal_price}\n",
        "Discounted Price = \\t{discounted_price}\n",
        "\"\"\"\n",
        "\n",
        "print(string)"
      ],
      "metadata": {
        "colab": {
          "base_uri": "https://localhost:8080/",
          "height": 0
        },
        "id": "p80XOdmmI9Vi",
        "outputId": "86818165-7f76-4b2a-bd6d-ea2e3eb3a479"
      },
      "execution_count": 8,
      "outputs": [
        {
          "output_type": "stream",
          "name": "stdout",
          "text": [
            " HOME APPLIANCE\n",
            "Product Name \t = \tAir conditioner\n",
            "Discount Rate \t = \t70\n",
            "Orignal Price \t = \t100000\n",
            "Discounted Price = \t30000.000000000004\n",
            "\n"
          ]
        }
      ]
    }
  ]
}